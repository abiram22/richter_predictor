{
 "cells": [
  {
   "cell_type": "code",
   "execution_count": 44,
   "id": "d7754803",
   "metadata": {},
   "outputs": [],
   "source": [
    "import pandas as pd\n",
    "import numpy as np\n",
    "import warnings\n",
    "import seaborn as sns\n",
    "\n",
    "# Filter out all warnings\n",
    "warnings.filterwarnings(\"ignore\")"
   ]
  },
  {
   "cell_type": "code",
   "execution_count": 45,
   "id": "c0c42470",
   "metadata": {},
   "outputs": [],
   "source": [
    "cleaned_data_path = \"C:\\\\Users\\\\abi\\\\Desktop\\\\richter_predictor\\\\data\\\\train_values.csv\"\n",
    "\n",
    "df = pd.read_csv(cleaned_data_path)"
   ]
  },
  {
   "cell_type": "code",
   "execution_count": 3,
   "id": "f91ca32c",
   "metadata": {},
   "outputs": [],
   "source": [
    "labels_path = \"C:\\\\Users\\\\abi\\\\Desktop\\\\richter_predictor\\\\data\\\\train_labels.csv\"\n",
    "label_df = pd.read_csv(labels_path)"
   ]
  },
  {
   "cell_type": "code",
   "execution_count": 4,
   "id": "ee99ecbe",
   "metadata": {},
   "outputs": [],
   "source": [
    "test_path = \"C:\\\\Users\\\\abi\\\\Desktop\\\\richter_predictor\\\\data\\\\test_values.csv\"\n",
    "test_df = pd.read_csv(test_path)"
   ]
  },
  {
   "cell_type": "code",
   "execution_count": 5,
   "id": "8fa9df5c",
   "metadata": {},
   "outputs": [
    {
     "data": {
      "text/plain": [
       "(86868, 39)"
      ]
     },
     "execution_count": 5,
     "metadata": {},
     "output_type": "execute_result"
    }
   ],
   "source": [
    "test_df.shape"
   ]
  },
  {
   "cell_type": "code",
   "execution_count": 6,
   "id": "6ebe1571",
   "metadata": {},
   "outputs": [
    {
     "data": {
      "text/html": [
       "<div>\n",
       "<style scoped>\n",
       "    .dataframe tbody tr th:only-of-type {\n",
       "        vertical-align: middle;\n",
       "    }\n",
       "\n",
       "    .dataframe tbody tr th {\n",
       "        vertical-align: top;\n",
       "    }\n",
       "\n",
       "    .dataframe thead th {\n",
       "        text-align: right;\n",
       "    }\n",
       "</style>\n",
       "<table border=\"1\" class=\"dataframe\">\n",
       "  <thead>\n",
       "    <tr style=\"text-align: right;\">\n",
       "      <th></th>\n",
       "      <th>building_id</th>\n",
       "      <th>damage_grade</th>\n",
       "    </tr>\n",
       "  </thead>\n",
       "  <tbody>\n",
       "    <tr>\n",
       "      <th>0</th>\n",
       "      <td>802906</td>\n",
       "      <td>3</td>\n",
       "    </tr>\n",
       "    <tr>\n",
       "      <th>1</th>\n",
       "      <td>28830</td>\n",
       "      <td>2</td>\n",
       "    </tr>\n",
       "    <tr>\n",
       "      <th>2</th>\n",
       "      <td>94947</td>\n",
       "      <td>3</td>\n",
       "    </tr>\n",
       "    <tr>\n",
       "      <th>3</th>\n",
       "      <td>590882</td>\n",
       "      <td>2</td>\n",
       "    </tr>\n",
       "    <tr>\n",
       "      <th>4</th>\n",
       "      <td>201944</td>\n",
       "      <td>3</td>\n",
       "    </tr>\n",
       "    <tr>\n",
       "      <th>...</th>\n",
       "      <td>...</td>\n",
       "      <td>...</td>\n",
       "    </tr>\n",
       "    <tr>\n",
       "      <th>260596</th>\n",
       "      <td>688636</td>\n",
       "      <td>2</td>\n",
       "    </tr>\n",
       "    <tr>\n",
       "      <th>260597</th>\n",
       "      <td>669485</td>\n",
       "      <td>3</td>\n",
       "    </tr>\n",
       "    <tr>\n",
       "      <th>260598</th>\n",
       "      <td>602512</td>\n",
       "      <td>3</td>\n",
       "    </tr>\n",
       "    <tr>\n",
       "      <th>260599</th>\n",
       "      <td>151409</td>\n",
       "      <td>2</td>\n",
       "    </tr>\n",
       "    <tr>\n",
       "      <th>260600</th>\n",
       "      <td>747594</td>\n",
       "      <td>3</td>\n",
       "    </tr>\n",
       "  </tbody>\n",
       "</table>\n",
       "<p>260601 rows × 2 columns</p>\n",
       "</div>"
      ],
      "text/plain": [
       "        building_id  damage_grade\n",
       "0            802906             3\n",
       "1             28830             2\n",
       "2             94947             3\n",
       "3            590882             2\n",
       "4            201944             3\n",
       "...             ...           ...\n",
       "260596       688636             2\n",
       "260597       669485             3\n",
       "260598       602512             3\n",
       "260599       151409             2\n",
       "260600       747594             3\n",
       "\n",
       "[260601 rows x 2 columns]"
      ]
     },
     "execution_count": 6,
     "metadata": {},
     "output_type": "execute_result"
    }
   ],
   "source": [
    "label_df"
   ]
  },
  {
   "cell_type": "code",
   "execution_count": 7,
   "id": "6b5aca7f",
   "metadata": {},
   "outputs": [
    {
     "data": {
      "text/plain": [
       "(260601, 39)"
      ]
     },
     "execution_count": 7,
     "metadata": {},
     "output_type": "execute_result"
    }
   ],
   "source": [
    "df.shape"
   ]
  },
  {
   "cell_type": "code",
   "execution_count": 8,
   "id": "5573ee09",
   "metadata": {},
   "outputs": [],
   "source": [
    "total_df = df.copy()"
   ]
  },
  {
   "cell_type": "code",
   "execution_count": 9,
   "id": "ee80f946",
   "metadata": {},
   "outputs": [],
   "source": [
    "total_df = total_df.merge(label_df, on =['building_id'])"
   ]
  },
  {
   "cell_type": "code",
   "execution_count": 10,
   "id": "3b871133",
   "metadata": {},
   "outputs": [
    {
     "data": {
      "text/html": [
       "<div>\n",
       "<style scoped>\n",
       "    .dataframe tbody tr th:only-of-type {\n",
       "        vertical-align: middle;\n",
       "    }\n",
       "\n",
       "    .dataframe tbody tr th {\n",
       "        vertical-align: top;\n",
       "    }\n",
       "\n",
       "    .dataframe thead th {\n",
       "        text-align: right;\n",
       "    }\n",
       "</style>\n",
       "<table border=\"1\" class=\"dataframe\">\n",
       "  <thead>\n",
       "    <tr style=\"text-align: right;\">\n",
       "      <th></th>\n",
       "      <th>building_id</th>\n",
       "      <th>geo_level_1_id</th>\n",
       "      <th>geo_level_2_id</th>\n",
       "      <th>geo_level_3_id</th>\n",
       "      <th>count_floors_pre_eq</th>\n",
       "      <th>age</th>\n",
       "      <th>area_percentage</th>\n",
       "      <th>height_percentage</th>\n",
       "      <th>land_surface_condition</th>\n",
       "      <th>foundation_type</th>\n",
       "      <th>...</th>\n",
       "      <th>has_secondary_use_hotel</th>\n",
       "      <th>has_secondary_use_rental</th>\n",
       "      <th>has_secondary_use_institution</th>\n",
       "      <th>has_secondary_use_school</th>\n",
       "      <th>has_secondary_use_industry</th>\n",
       "      <th>has_secondary_use_health_post</th>\n",
       "      <th>has_secondary_use_gov_office</th>\n",
       "      <th>has_secondary_use_use_police</th>\n",
       "      <th>has_secondary_use_other</th>\n",
       "      <th>damage_grade</th>\n",
       "    </tr>\n",
       "  </thead>\n",
       "  <tbody>\n",
       "    <tr>\n",
       "      <th>0</th>\n",
       "      <td>802906</td>\n",
       "      <td>6</td>\n",
       "      <td>487</td>\n",
       "      <td>12198</td>\n",
       "      <td>2</td>\n",
       "      <td>30</td>\n",
       "      <td>6</td>\n",
       "      <td>5</td>\n",
       "      <td>t</td>\n",
       "      <td>r</td>\n",
       "      <td>...</td>\n",
       "      <td>0</td>\n",
       "      <td>0</td>\n",
       "      <td>0</td>\n",
       "      <td>0</td>\n",
       "      <td>0</td>\n",
       "      <td>0</td>\n",
       "      <td>0</td>\n",
       "      <td>0</td>\n",
       "      <td>0</td>\n",
       "      <td>3</td>\n",
       "    </tr>\n",
       "    <tr>\n",
       "      <th>1</th>\n",
       "      <td>28830</td>\n",
       "      <td>8</td>\n",
       "      <td>900</td>\n",
       "      <td>2812</td>\n",
       "      <td>2</td>\n",
       "      <td>10</td>\n",
       "      <td>8</td>\n",
       "      <td>7</td>\n",
       "      <td>o</td>\n",
       "      <td>r</td>\n",
       "      <td>...</td>\n",
       "      <td>0</td>\n",
       "      <td>0</td>\n",
       "      <td>0</td>\n",
       "      <td>0</td>\n",
       "      <td>0</td>\n",
       "      <td>0</td>\n",
       "      <td>0</td>\n",
       "      <td>0</td>\n",
       "      <td>0</td>\n",
       "      <td>2</td>\n",
       "    </tr>\n",
       "    <tr>\n",
       "      <th>2</th>\n",
       "      <td>94947</td>\n",
       "      <td>21</td>\n",
       "      <td>363</td>\n",
       "      <td>8973</td>\n",
       "      <td>2</td>\n",
       "      <td>10</td>\n",
       "      <td>5</td>\n",
       "      <td>5</td>\n",
       "      <td>t</td>\n",
       "      <td>r</td>\n",
       "      <td>...</td>\n",
       "      <td>0</td>\n",
       "      <td>0</td>\n",
       "      <td>0</td>\n",
       "      <td>0</td>\n",
       "      <td>0</td>\n",
       "      <td>0</td>\n",
       "      <td>0</td>\n",
       "      <td>0</td>\n",
       "      <td>0</td>\n",
       "      <td>3</td>\n",
       "    </tr>\n",
       "    <tr>\n",
       "      <th>3</th>\n",
       "      <td>590882</td>\n",
       "      <td>22</td>\n",
       "      <td>418</td>\n",
       "      <td>10694</td>\n",
       "      <td>2</td>\n",
       "      <td>10</td>\n",
       "      <td>6</td>\n",
       "      <td>5</td>\n",
       "      <td>t</td>\n",
       "      <td>r</td>\n",
       "      <td>...</td>\n",
       "      <td>0</td>\n",
       "      <td>0</td>\n",
       "      <td>0</td>\n",
       "      <td>0</td>\n",
       "      <td>0</td>\n",
       "      <td>0</td>\n",
       "      <td>0</td>\n",
       "      <td>0</td>\n",
       "      <td>0</td>\n",
       "      <td>2</td>\n",
       "    </tr>\n",
       "    <tr>\n",
       "      <th>4</th>\n",
       "      <td>201944</td>\n",
       "      <td>11</td>\n",
       "      <td>131</td>\n",
       "      <td>1488</td>\n",
       "      <td>3</td>\n",
       "      <td>30</td>\n",
       "      <td>8</td>\n",
       "      <td>9</td>\n",
       "      <td>t</td>\n",
       "      <td>r</td>\n",
       "      <td>...</td>\n",
       "      <td>0</td>\n",
       "      <td>0</td>\n",
       "      <td>0</td>\n",
       "      <td>0</td>\n",
       "      <td>0</td>\n",
       "      <td>0</td>\n",
       "      <td>0</td>\n",
       "      <td>0</td>\n",
       "      <td>0</td>\n",
       "      <td>3</td>\n",
       "    </tr>\n",
       "    <tr>\n",
       "      <th>...</th>\n",
       "      <td>...</td>\n",
       "      <td>...</td>\n",
       "      <td>...</td>\n",
       "      <td>...</td>\n",
       "      <td>...</td>\n",
       "      <td>...</td>\n",
       "      <td>...</td>\n",
       "      <td>...</td>\n",
       "      <td>...</td>\n",
       "      <td>...</td>\n",
       "      <td>...</td>\n",
       "      <td>...</td>\n",
       "      <td>...</td>\n",
       "      <td>...</td>\n",
       "      <td>...</td>\n",
       "      <td>...</td>\n",
       "      <td>...</td>\n",
       "      <td>...</td>\n",
       "      <td>...</td>\n",
       "      <td>...</td>\n",
       "      <td>...</td>\n",
       "    </tr>\n",
       "    <tr>\n",
       "      <th>260596</th>\n",
       "      <td>688636</td>\n",
       "      <td>25</td>\n",
       "      <td>1335</td>\n",
       "      <td>1621</td>\n",
       "      <td>1</td>\n",
       "      <td>55</td>\n",
       "      <td>6</td>\n",
       "      <td>3</td>\n",
       "      <td>n</td>\n",
       "      <td>r</td>\n",
       "      <td>...</td>\n",
       "      <td>0</td>\n",
       "      <td>0</td>\n",
       "      <td>0</td>\n",
       "      <td>0</td>\n",
       "      <td>0</td>\n",
       "      <td>0</td>\n",
       "      <td>0</td>\n",
       "      <td>0</td>\n",
       "      <td>0</td>\n",
       "      <td>2</td>\n",
       "    </tr>\n",
       "    <tr>\n",
       "      <th>260597</th>\n",
       "      <td>669485</td>\n",
       "      <td>17</td>\n",
       "      <td>715</td>\n",
       "      <td>2060</td>\n",
       "      <td>2</td>\n",
       "      <td>0</td>\n",
       "      <td>6</td>\n",
       "      <td>5</td>\n",
       "      <td>t</td>\n",
       "      <td>r</td>\n",
       "      <td>...</td>\n",
       "      <td>0</td>\n",
       "      <td>0</td>\n",
       "      <td>0</td>\n",
       "      <td>0</td>\n",
       "      <td>0</td>\n",
       "      <td>0</td>\n",
       "      <td>0</td>\n",
       "      <td>0</td>\n",
       "      <td>0</td>\n",
       "      <td>3</td>\n",
       "    </tr>\n",
       "    <tr>\n",
       "      <th>260598</th>\n",
       "      <td>602512</td>\n",
       "      <td>17</td>\n",
       "      <td>51</td>\n",
       "      <td>8163</td>\n",
       "      <td>3</td>\n",
       "      <td>55</td>\n",
       "      <td>6</td>\n",
       "      <td>7</td>\n",
       "      <td>t</td>\n",
       "      <td>r</td>\n",
       "      <td>...</td>\n",
       "      <td>0</td>\n",
       "      <td>0</td>\n",
       "      <td>0</td>\n",
       "      <td>0</td>\n",
       "      <td>0</td>\n",
       "      <td>0</td>\n",
       "      <td>0</td>\n",
       "      <td>0</td>\n",
       "      <td>0</td>\n",
       "      <td>3</td>\n",
       "    </tr>\n",
       "    <tr>\n",
       "      <th>260599</th>\n",
       "      <td>151409</td>\n",
       "      <td>26</td>\n",
       "      <td>39</td>\n",
       "      <td>1851</td>\n",
       "      <td>2</td>\n",
       "      <td>10</td>\n",
       "      <td>14</td>\n",
       "      <td>6</td>\n",
       "      <td>t</td>\n",
       "      <td>r</td>\n",
       "      <td>...</td>\n",
       "      <td>0</td>\n",
       "      <td>0</td>\n",
       "      <td>0</td>\n",
       "      <td>0</td>\n",
       "      <td>0</td>\n",
       "      <td>0</td>\n",
       "      <td>0</td>\n",
       "      <td>0</td>\n",
       "      <td>0</td>\n",
       "      <td>2</td>\n",
       "    </tr>\n",
       "    <tr>\n",
       "      <th>260600</th>\n",
       "      <td>747594</td>\n",
       "      <td>21</td>\n",
       "      <td>9</td>\n",
       "      <td>9101</td>\n",
       "      <td>3</td>\n",
       "      <td>10</td>\n",
       "      <td>7</td>\n",
       "      <td>6</td>\n",
       "      <td>n</td>\n",
       "      <td>r</td>\n",
       "      <td>...</td>\n",
       "      <td>0</td>\n",
       "      <td>0</td>\n",
       "      <td>0</td>\n",
       "      <td>0</td>\n",
       "      <td>0</td>\n",
       "      <td>0</td>\n",
       "      <td>0</td>\n",
       "      <td>0</td>\n",
       "      <td>0</td>\n",
       "      <td>3</td>\n",
       "    </tr>\n",
       "  </tbody>\n",
       "</table>\n",
       "<p>260601 rows × 40 columns</p>\n",
       "</div>"
      ],
      "text/plain": [
       "        building_id  geo_level_1_id  geo_level_2_id  geo_level_3_id  \\\n",
       "0            802906               6             487           12198   \n",
       "1             28830               8             900            2812   \n",
       "2             94947              21             363            8973   \n",
       "3            590882              22             418           10694   \n",
       "4            201944              11             131            1488   \n",
       "...             ...             ...             ...             ...   \n",
       "260596       688636              25            1335            1621   \n",
       "260597       669485              17             715            2060   \n",
       "260598       602512              17              51            8163   \n",
       "260599       151409              26              39            1851   \n",
       "260600       747594              21               9            9101   \n",
       "\n",
       "        count_floors_pre_eq  age  area_percentage  height_percentage  \\\n",
       "0                         2   30                6                  5   \n",
       "1                         2   10                8                  7   \n",
       "2                         2   10                5                  5   \n",
       "3                         2   10                6                  5   \n",
       "4                         3   30                8                  9   \n",
       "...                     ...  ...              ...                ...   \n",
       "260596                    1   55                6                  3   \n",
       "260597                    2    0                6                  5   \n",
       "260598                    3   55                6                  7   \n",
       "260599                    2   10               14                  6   \n",
       "260600                    3   10                7                  6   \n",
       "\n",
       "       land_surface_condition foundation_type  ... has_secondary_use_hotel  \\\n",
       "0                           t               r  ...                       0   \n",
       "1                           o               r  ...                       0   \n",
       "2                           t               r  ...                       0   \n",
       "3                           t               r  ...                       0   \n",
       "4                           t               r  ...                       0   \n",
       "...                       ...             ...  ...                     ...   \n",
       "260596                      n               r  ...                       0   \n",
       "260597                      t               r  ...                       0   \n",
       "260598                      t               r  ...                       0   \n",
       "260599                      t               r  ...                       0   \n",
       "260600                      n               r  ...                       0   \n",
       "\n",
       "       has_secondary_use_rental has_secondary_use_institution  \\\n",
       "0                             0                             0   \n",
       "1                             0                             0   \n",
       "2                             0                             0   \n",
       "3                             0                             0   \n",
       "4                             0                             0   \n",
       "...                         ...                           ...   \n",
       "260596                        0                             0   \n",
       "260597                        0                             0   \n",
       "260598                        0                             0   \n",
       "260599                        0                             0   \n",
       "260600                        0                             0   \n",
       "\n",
       "       has_secondary_use_school has_secondary_use_industry  \\\n",
       "0                             0                          0   \n",
       "1                             0                          0   \n",
       "2                             0                          0   \n",
       "3                             0                          0   \n",
       "4                             0                          0   \n",
       "...                         ...                        ...   \n",
       "260596                        0                          0   \n",
       "260597                        0                          0   \n",
       "260598                        0                          0   \n",
       "260599                        0                          0   \n",
       "260600                        0                          0   \n",
       "\n",
       "        has_secondary_use_health_post  has_secondary_use_gov_office  \\\n",
       "0                                   0                             0   \n",
       "1                                   0                             0   \n",
       "2                                   0                             0   \n",
       "3                                   0                             0   \n",
       "4                                   0                             0   \n",
       "...                               ...                           ...   \n",
       "260596                              0                             0   \n",
       "260597                              0                             0   \n",
       "260598                              0                             0   \n",
       "260599                              0                             0   \n",
       "260600                              0                             0   \n",
       "\n",
       "        has_secondary_use_use_police  has_secondary_use_other  damage_grade  \n",
       "0                                  0                        0             3  \n",
       "1                                  0                        0             2  \n",
       "2                                  0                        0             3  \n",
       "3                                  0                        0             2  \n",
       "4                                  0                        0             3  \n",
       "...                              ...                      ...           ...  \n",
       "260596                             0                        0             2  \n",
       "260597                             0                        0             3  \n",
       "260598                             0                        0             3  \n",
       "260599                             0                        0             2  \n",
       "260600                             0                        0             3  \n",
       "\n",
       "[260601 rows x 40 columns]"
      ]
     },
     "execution_count": 10,
     "metadata": {},
     "output_type": "execute_result"
    }
   ],
   "source": [
    "total_df"
   ]
  },
  {
   "cell_type": "code",
   "execution_count": 11,
   "id": "e84e8a2f",
   "metadata": {},
   "outputs": [],
   "source": [
    "numerical_columns = []\n",
    "\n",
    "for column in df.columns:\n",
    "    if (len(df[column].value_counts()) > 10):\n",
    "        numerical_columns.append(column)"
   ]
  },
  {
   "cell_type": "code",
   "execution_count": 12,
   "id": "0caa2ff9",
   "metadata": {},
   "outputs": [
    {
     "data": {
      "text/plain": [
       "['building_id',\n",
       " 'geo_level_1_id',\n",
       " 'geo_level_2_id',\n",
       " 'geo_level_3_id',\n",
       " 'age',\n",
       " 'area_percentage',\n",
       " 'height_percentage']"
      ]
     },
     "execution_count": 12,
     "metadata": {},
     "output_type": "execute_result"
    }
   ],
   "source": [
    "numerical_columns"
   ]
  },
  {
   "cell_type": "code",
   "execution_count": 13,
   "id": "13f1b790",
   "metadata": {},
   "outputs": [
    {
     "data": {
      "text/plain": [
       "9"
      ]
     },
     "execution_count": 13,
     "metadata": {},
     "output_type": "execute_result"
    }
   ],
   "source": [
    "len(df['count_floors_pre_eq'].value_counts())"
   ]
  },
  {
   "cell_type": "code",
   "execution_count": 14,
   "id": "37eb1bde",
   "metadata": {},
   "outputs": [],
   "source": [
    "numerical_columns.append('count_floors_pre_eq')"
   ]
  },
  {
   "cell_type": "code",
   "execution_count": 15,
   "id": "2dfb99ed",
   "metadata": {},
   "outputs": [
    {
     "data": {
      "text/plain": [
       "['building_id',\n",
       " 'geo_level_1_id',\n",
       " 'geo_level_2_id',\n",
       " 'geo_level_3_id',\n",
       " 'age',\n",
       " 'area_percentage',\n",
       " 'height_percentage',\n",
       " 'count_floors_pre_eq']"
      ]
     },
     "execution_count": 15,
     "metadata": {},
     "output_type": "execute_result"
    }
   ],
   "source": [
    "numerical_columns"
   ]
  },
  {
   "cell_type": "code",
   "execution_count": 16,
   "id": "675ebdb6",
   "metadata": {},
   "outputs": [],
   "source": [
    "numerical_columns.append('count_families')"
   ]
  },
  {
   "cell_type": "code",
   "execution_count": 17,
   "id": "6e12f891",
   "metadata": {},
   "outputs": [],
   "source": [
    "numerical_columns.remove('building_id')"
   ]
  },
  {
   "cell_type": "code",
   "execution_count": 18,
   "id": "9e95097a",
   "metadata": {},
   "outputs": [],
   "source": [
    "numerical_columns.remove('geo_level_1_id')"
   ]
  },
  {
   "cell_type": "code",
   "execution_count": 19,
   "id": "22402ee0",
   "metadata": {},
   "outputs": [],
   "source": [
    "numerical_columns.remove('geo_level_2_id')"
   ]
  },
  {
   "cell_type": "code",
   "execution_count": 20,
   "id": "f8329c2a",
   "metadata": {},
   "outputs": [],
   "source": [
    "numerical_columns.remove('geo_level_3_id')"
   ]
  },
  {
   "cell_type": "code",
   "execution_count": 21,
   "id": "b4234f99",
   "metadata": {},
   "outputs": [
    {
     "data": {
      "text/plain": [
       "['age',\n",
       " 'area_percentage',\n",
       " 'height_percentage',\n",
       " 'count_floors_pre_eq',\n",
       " 'count_families']"
      ]
     },
     "execution_count": 21,
     "metadata": {},
     "output_type": "execute_result"
    }
   ],
   "source": [
    "numerical_columns"
   ]
  },
  {
   "cell_type": "code",
   "execution_count": 22,
   "id": "34fa7f8b",
   "metadata": {},
   "outputs": [],
   "source": [
    "high_cardinal_cat_columns =['geo_level_1_id', 'geo_level_2_id','geo_level_3_id']"
   ]
  },
  {
   "cell_type": "code",
   "execution_count": 23,
   "id": "e0c5cea8",
   "metadata": {},
   "outputs": [
    {
     "data": {
      "text/plain": [
       "['geo_level_1_id', 'geo_level_2_id', 'geo_level_3_id']"
      ]
     },
     "execution_count": 23,
     "metadata": {},
     "output_type": "execute_result"
    }
   ],
   "source": [
    "high_cardinal_cat_columns"
   ]
  },
  {
   "cell_type": "code",
   "execution_count": 24,
   "id": "44abaab8",
   "metadata": {},
   "outputs": [
    {
     "data": {
      "text/plain": [
       "5"
      ]
     },
     "execution_count": 24,
     "metadata": {},
     "output_type": "execute_result"
    }
   ],
   "source": [
    "len(numerical_columns)"
   ]
  },
  {
   "cell_type": "code",
   "execution_count": 25,
   "id": "941ec194",
   "metadata": {},
   "outputs": [
    {
     "data": {
      "text/plain": [
       "11595"
      ]
     },
     "execution_count": 25,
     "metadata": {},
     "output_type": "execute_result"
    }
   ],
   "source": [
    "len(df['geo_level_3_id'].value_counts())"
   ]
  },
  {
   "cell_type": "code",
   "execution_count": 26,
   "id": "20098b62",
   "metadata": {},
   "outputs": [],
   "source": [
    "categorical_columns = []\n",
    "\n",
    "for column in df.columns:\n",
    "    if (len(df[column].value_counts()) <= 10):\n",
    "        categorical_columns.append(column)"
   ]
  },
  {
   "cell_type": "code",
   "execution_count": 27,
   "id": "ddb97749",
   "metadata": {},
   "outputs": [],
   "source": [
    "categorical_columns.remove('count_floors_pre_eq')"
   ]
  },
  {
   "cell_type": "code",
   "execution_count": 28,
   "id": "dbf45ade",
   "metadata": {},
   "outputs": [],
   "source": [
    "categorical_columns.remove('count_families')"
   ]
  },
  {
   "cell_type": "code",
   "execution_count": 29,
   "id": "b1030a1a",
   "metadata": {},
   "outputs": [
    {
     "data": {
      "text/plain": [
       "30"
      ]
     },
     "execution_count": 29,
     "metadata": {},
     "output_type": "execute_result"
    }
   ],
   "source": [
    "len(categorical_columns)"
   ]
  },
  {
   "cell_type": "code",
   "execution_count": 30,
   "id": "2efaffd6",
   "metadata": {
    "scrolled": false
   },
   "outputs": [
    {
     "data": {
      "text/plain": [
       "['land_surface_condition',\n",
       " 'foundation_type',\n",
       " 'roof_type',\n",
       " 'ground_floor_type',\n",
       " 'other_floor_type',\n",
       " 'position',\n",
       " 'plan_configuration',\n",
       " 'has_superstructure_adobe_mud',\n",
       " 'has_superstructure_mud_mortar_stone',\n",
       " 'has_superstructure_stone_flag',\n",
       " 'has_superstructure_cement_mortar_stone',\n",
       " 'has_superstructure_mud_mortar_brick',\n",
       " 'has_superstructure_cement_mortar_brick',\n",
       " 'has_superstructure_timber',\n",
       " 'has_superstructure_bamboo',\n",
       " 'has_superstructure_rc_non_engineered',\n",
       " 'has_superstructure_rc_engineered',\n",
       " 'has_superstructure_other',\n",
       " 'legal_ownership_status',\n",
       " 'has_secondary_use',\n",
       " 'has_secondary_use_agriculture',\n",
       " 'has_secondary_use_hotel',\n",
       " 'has_secondary_use_rental',\n",
       " 'has_secondary_use_institution',\n",
       " 'has_secondary_use_school',\n",
       " 'has_secondary_use_industry',\n",
       " 'has_secondary_use_health_post',\n",
       " 'has_secondary_use_gov_office',\n",
       " 'has_secondary_use_use_police',\n",
       " 'has_secondary_use_other']"
      ]
     },
     "execution_count": 30,
     "metadata": {},
     "output_type": "execute_result"
    }
   ],
   "source": [
    "categorical_columns"
   ]
  },
  {
   "cell_type": "code",
   "execution_count": 31,
   "id": "7c79e6b7",
   "metadata": {},
   "outputs": [],
   "source": [
    "cat_binary_column = [column for column in categorical_columns if column.lower().startswith(\"has\")]"
   ]
  },
  {
   "cell_type": "code",
   "execution_count": 32,
   "id": "66b186a4",
   "metadata": {},
   "outputs": [
    {
     "data": {
      "text/plain": [
       "['has_superstructure_adobe_mud',\n",
       " 'has_superstructure_mud_mortar_stone',\n",
       " 'has_superstructure_stone_flag',\n",
       " 'has_superstructure_cement_mortar_stone',\n",
       " 'has_superstructure_mud_mortar_brick',\n",
       " 'has_superstructure_cement_mortar_brick',\n",
       " 'has_superstructure_timber',\n",
       " 'has_superstructure_bamboo',\n",
       " 'has_superstructure_rc_non_engineered',\n",
       " 'has_superstructure_rc_engineered',\n",
       " 'has_superstructure_other',\n",
       " 'has_secondary_use',\n",
       " 'has_secondary_use_agriculture',\n",
       " 'has_secondary_use_hotel',\n",
       " 'has_secondary_use_rental',\n",
       " 'has_secondary_use_institution',\n",
       " 'has_secondary_use_school',\n",
       " 'has_secondary_use_industry',\n",
       " 'has_secondary_use_health_post',\n",
       " 'has_secondary_use_gov_office',\n",
       " 'has_secondary_use_use_police',\n",
       " 'has_secondary_use_other']"
      ]
     },
     "execution_count": 32,
     "metadata": {},
     "output_type": "execute_result"
    }
   ],
   "source": [
    "cat_binary_column"
   ]
  },
  {
   "cell_type": "code",
   "execution_count": 33,
   "id": "e816625b",
   "metadata": {},
   "outputs": [],
   "source": [
    "categorical_columns = [column for column in categorical_columns if not column.lower().startswith(\"has\")]"
   ]
  },
  {
   "cell_type": "code",
   "execution_count": 34,
   "id": "f67dc3ee",
   "metadata": {},
   "outputs": [
    {
     "data": {
      "text/plain": [
       "['land_surface_condition',\n",
       " 'foundation_type',\n",
       " 'roof_type',\n",
       " 'ground_floor_type',\n",
       " 'other_floor_type',\n",
       " 'position',\n",
       " 'plan_configuration',\n",
       " 'legal_ownership_status']"
      ]
     },
     "execution_count": 34,
     "metadata": {},
     "output_type": "execute_result"
    }
   ],
   "source": [
    "categorical_columns"
   ]
  },
  {
   "cell_type": "code",
   "execution_count": 35,
   "id": "a12bdae4",
   "metadata": {},
   "outputs": [],
   "source": [
    "from sklearn.compose import ColumnTransformer\n",
    "from sklearn.preprocessing import FunctionTransformer\n",
    "from sklearn.pipeline import Pipeline\n",
    "from sklearn.model_selection import train_test_split\n",
    "from sklearn.preprocessing import OneHotEncoder, LabelEncoder, StandardScaler"
   ]
  },
  {
   "cell_type": "code",
   "execution_count": null,
   "id": "f126fd73",
   "metadata": {},
   "outputs": [],
   "source": []
  },
  {
   "cell_type": "code",
   "execution_count": 36,
   "id": "62418168",
   "metadata": {},
   "outputs": [],
   "source": [
    "high_cat_columns = ['geo_level_1_category', 'geo_level_2_category', 'geo_level_3_category']"
   ]
  },
  {
   "cell_type": "code",
   "execution_count": 37,
   "id": "5f0774bd",
   "metadata": {},
   "outputs": [],
   "source": [
    "from sklearn.linear_model import LogisticRegression\n",
    "from sklearn.tree import DecisionTreeClassifier\n",
    "from sklearn.ensemble import RandomForestClassifier\n",
    "from sklearn.svm import SVC\n",
    "from sklearn.neighbors import KNeighborsClassifier\n",
    "from sklearn.naive_bayes import GaussianNB"
   ]
  },
  {
   "cell_type": "code",
   "execution_count": 60,
   "id": "f765d3d6",
   "metadata": {},
   "outputs": [],
   "source": [
    "from sklearn.model_selection import GridSearchCV\n",
    "from sklearn.metrics import *\n",
    "from sklearn.metrics import f1_score"
   ]
  },
  {
   "cell_type": "code",
   "execution_count": 71,
   "id": "a8c9e465",
   "metadata": {},
   "outputs": [],
   "source": [
    "class Prediction:\n",
    "    \n",
    "    def __init__(self):\n",
    "       # self.p_obj = None\n",
    "        self.report = {}\n",
    "        self.is_trained = False\n",
    "        self.pipe = None\n",
    "        self.best_trained_model = None\n",
    "    \n",
    "    def bucketize_geo_levels(self, x):\n",
    "        \n",
    "        df = x\n",
    "        bins_geo_level_1 = [0, 10, 20, 30]\n",
    "        bins_geo_level_2 = [0, 1427, 2854, 4281, 5708, 7135, 8562, 9989, 11416]\n",
    "        bins_geo_level_3 = [0, 1256, 2513, 3769, 5025, 6281, 7537, 8793, 10049, 11305, 12567]\n",
    "\n",
    "        # Define the labels for each category\n",
    "        # Create labels for each bin\n",
    "        labels_geo_level_1 = ['cat1', 'cat2', 'cat3']\n",
    "        labels_geo_level_2 = ['cat1', 'cat2', 'cat3', 'cat4', 'cat5', 'cat6', 'cat7', 'cat8']\n",
    "        labels_geo_level_3 = ['cat1', 'cat2', 'cat3', 'cat4', 'cat5', 'cat6', 'cat7', 'cat8', 'cat9', 'cat10']\n",
    "        \n",
    "        # Apply bucketing to each column\n",
    "        df['geo_level_1_category'] = pd.cut(df['geo_level_1_id'], bins=bins_geo_level_1, labels=labels_geo_level_1)\n",
    "        df['geo_level_2_category'] = pd.cut(df['geo_level_2_id'], bins=bins_geo_level_2, labels=labels_geo_level_2)\n",
    "        df['geo_level_3_category'] = pd.cut(df['geo_level_3_id'], bins=bins_geo_level_3, labels=labels_geo_level_3)\n",
    "        df = df.drop(['geo_level_1_id', 'geo_level_2_id', 'geo_level_3_id'], axis = 1)\n",
    "        print('hi')\n",
    "        \n",
    "        return df\n",
    "        \n",
    "    def preprocessor_fn(self):\n",
    "            preprocessor = ColumnTransformer(\n",
    "            transformers=[\n",
    "            ('numeric', StandardScaler(), numerical_columns),\n",
    "            ('categorical', OneHotEncoder(), categorical_columns),\n",
    "            ('no_encoding', 'passthrough', cat_binary_column),\n",
    "            ('no_encoding_hcc', OneHotEncoder(), high_cat_columns)\n",
    "            ],\n",
    "            remainder='drop'  # Drop any columns not explicitly transformed\n",
    "        )\n",
    "            \n",
    "            self.pipe = Pipeline([('preprocessor', preprocessor),])\n",
    "        \n",
    "        \n",
    "    def model_training(self, X, y):\n",
    "            \n",
    "            models = {\n",
    "                         \"LogisticRegression\": LogisticRegression(),\n",
    "#                         \"DecisionTreeClassifier\": DecisionTreeClassifier(),\n",
    "#                        \"RandomForestClassifier\": RandomForestClassifier(),\n",
    "#                        \"SVC\": SVC(),\n",
    "#                      \"KNeighborsClassifier\": KNeighborsClassifier(),\n",
    "                        \"GaussianNB\": GaussianNB()\n",
    "                    }\n",
    "\n",
    "            params = {\n",
    "                        \"LogisticRegression\": {'C': [0.01, 1, 10], 'penalty': ['l1', 'l2', 'elasticnet'], 'multi_class': ['ovr']},\n",
    "                       # \"DecisionTreeClassifier\": {'splitter': ['best', 'random'], 'criterion': ['gini', 'entropy']},\n",
    "                       # \"RandomForestClassifier\": {'n_estimators': [8, 32, 84]},\n",
    "                        # \"SVC\": {'C': [1.0, 10, 100], 'kernel': ['rbf', 'linear'], 'gamma': ['scale', 1]},\n",
    "                        # \"KNeighborsClassifier\": {'metric': ['euclidean', 'manhattan'], 'n_neighbors': [5, 7, 10]},\n",
    "                        \"GaussianNB\": {}\n",
    "                    }\n",
    "            \n",
    "            X_train, X_test, y_train, y_test = train_test_split(X, y, test_size=0.30, random_state=42)\n",
    "            \n",
    "            for model_name, model_object in models.items():\n",
    "                    print(model_name)\n",
    "                    current_params = params[model_name]\n",
    "\n",
    "                    grid_search_object = GridSearchCV(model_object, current_params, cv=3)\n",
    "                    grid_search_object.fit(X_train, y_train)\n",
    "\n",
    "                    best_model = grid_search_object.best_estimator_\n",
    "                    best_params = grid_search_object.best_params_\n",
    "\n",
    "                    best_model.fit(X_train, y_train)\n",
    "                    y_test_pred = best_model.predict(X_test)\n",
    "\n",
    "                    test_model_f1_score = f1_score(y_test, y_test_pred, average ='micro')\n",
    "\n",
    "                    self.report[model_name] = {'test_model_f1_score': test_model_f1_score,\n",
    "                                          'best_params': best_params}\n",
    "                    print(f\"{model_name} done\")\n",
    "            \n",
    "            print(self.report)\n",
    "            model_df = pd.DataFrame.from_dict(self.report, orient='index')       \n",
    "            model_df.sort_values(by=['test_model_f1_score'], ascending = False, inplace = True)\n",
    "            top_model_details = model_df.head(1)\n",
    "            \n",
    "            best_model_object = models[top_model_details.index[0]]\n",
    "            best_model_object.set_params(**top_model_details.best_params[0])\n",
    "            \n",
    "            self.best_trained_model = best_model_object.fit(X_train, y_train)\n",
    "            \n",
    "            \n",
    "    def prediction_fn(self, X_test, submission_df):\n",
    "        \n",
    "        submission = submission_df\n",
    "        \n",
    "        if not self.is_trained:\n",
    "            \n",
    "            raise ValueError(\"Model has not been trained yet.\")\n",
    "            \n",
    "        X_test_pp = self.bucketize_geo_levels(X_test)\n",
    "        \n",
    "        X_test_preprocessed = self.pipe.fit_transform(X_test_pp)\n",
    "        \n",
    "        predictions = self.best_trained_model.predict(X_test_preprocessed)\n",
    "        \n",
    "        submission['damage_grade'] = predictions\n",
    "        \n",
    "        submission.to_csv(\"C:\\\\Users\\\\abi\\\\Desktop\\\\richter_predictor\\\\submission\\\\submission.csv\")\n",
    "\n",
    "        return predictions\n",
    "    \n",
    "    def best_model_creating_fn(self, X_train, y_train):\n",
    "        \n",
    "        X_train = self.bucketize_geo_levels(X_train)\n",
    "        \n",
    "        self.preprocessor_fn()\n",
    "        \n",
    "        transformed_data = self.pipe.fit_transform(X_train)\n",
    "         \n",
    "        self.model_training(transformed_data, y_train)\n",
    "\n",
    "        self.is_trained = True\n",
    "        "
   ]
  },
  {
   "cell_type": "code",
   "execution_count": 72,
   "id": "5b1cc3e3",
   "metadata": {},
   "outputs": [
    {
     "data": {
      "text/html": [
       "<div>\n",
       "<style scoped>\n",
       "    .dataframe tbody tr th:only-of-type {\n",
       "        vertical-align: middle;\n",
       "    }\n",
       "\n",
       "    .dataframe tbody tr th {\n",
       "        vertical-align: top;\n",
       "    }\n",
       "\n",
       "    .dataframe thead th {\n",
       "        text-align: right;\n",
       "    }\n",
       "</style>\n",
       "<table border=\"1\" class=\"dataframe\">\n",
       "  <thead>\n",
       "    <tr style=\"text-align: right;\">\n",
       "      <th></th>\n",
       "      <th>building_id</th>\n",
       "      <th>geo_level_1_id</th>\n",
       "      <th>geo_level_2_id</th>\n",
       "      <th>geo_level_3_id</th>\n",
       "      <th>count_floors_pre_eq</th>\n",
       "      <th>age</th>\n",
       "      <th>area_percentage</th>\n",
       "      <th>height_percentage</th>\n",
       "      <th>land_surface_condition</th>\n",
       "      <th>foundation_type</th>\n",
       "      <th>...</th>\n",
       "      <th>has_secondary_use_hotel</th>\n",
       "      <th>has_secondary_use_rental</th>\n",
       "      <th>has_secondary_use_institution</th>\n",
       "      <th>has_secondary_use_school</th>\n",
       "      <th>has_secondary_use_industry</th>\n",
       "      <th>has_secondary_use_health_post</th>\n",
       "      <th>has_secondary_use_gov_office</th>\n",
       "      <th>has_secondary_use_use_police</th>\n",
       "      <th>has_secondary_use_other</th>\n",
       "      <th>damage_grade</th>\n",
       "    </tr>\n",
       "  </thead>\n",
       "  <tbody>\n",
       "    <tr>\n",
       "      <th>0</th>\n",
       "      <td>802906</td>\n",
       "      <td>6</td>\n",
       "      <td>487</td>\n",
       "      <td>12198</td>\n",
       "      <td>2</td>\n",
       "      <td>30</td>\n",
       "      <td>6</td>\n",
       "      <td>5</td>\n",
       "      <td>t</td>\n",
       "      <td>r</td>\n",
       "      <td>...</td>\n",
       "      <td>0</td>\n",
       "      <td>0</td>\n",
       "      <td>0</td>\n",
       "      <td>0</td>\n",
       "      <td>0</td>\n",
       "      <td>0</td>\n",
       "      <td>0</td>\n",
       "      <td>0</td>\n",
       "      <td>0</td>\n",
       "      <td>3</td>\n",
       "    </tr>\n",
       "    <tr>\n",
       "      <th>1</th>\n",
       "      <td>28830</td>\n",
       "      <td>8</td>\n",
       "      <td>900</td>\n",
       "      <td>2812</td>\n",
       "      <td>2</td>\n",
       "      <td>10</td>\n",
       "      <td>8</td>\n",
       "      <td>7</td>\n",
       "      <td>o</td>\n",
       "      <td>r</td>\n",
       "      <td>...</td>\n",
       "      <td>0</td>\n",
       "      <td>0</td>\n",
       "      <td>0</td>\n",
       "      <td>0</td>\n",
       "      <td>0</td>\n",
       "      <td>0</td>\n",
       "      <td>0</td>\n",
       "      <td>0</td>\n",
       "      <td>0</td>\n",
       "      <td>2</td>\n",
       "    </tr>\n",
       "  </tbody>\n",
       "</table>\n",
       "<p>2 rows × 40 columns</p>\n",
       "</div>"
      ],
      "text/plain": [
       "   building_id  geo_level_1_id  geo_level_2_id  geo_level_3_id  \\\n",
       "0       802906               6             487           12198   \n",
       "1        28830               8             900            2812   \n",
       "\n",
       "   count_floors_pre_eq  age  area_percentage  height_percentage  \\\n",
       "0                    2   30                6                  5   \n",
       "1                    2   10                8                  7   \n",
       "\n",
       "  land_surface_condition foundation_type  ... has_secondary_use_hotel  \\\n",
       "0                      t               r  ...                       0   \n",
       "1                      o               r  ...                       0   \n",
       "\n",
       "  has_secondary_use_rental has_secondary_use_institution  \\\n",
       "0                        0                             0   \n",
       "1                        0                             0   \n",
       "\n",
       "  has_secondary_use_school has_secondary_use_industry  \\\n",
       "0                        0                          0   \n",
       "1                        0                          0   \n",
       "\n",
       "   has_secondary_use_health_post  has_secondary_use_gov_office  \\\n",
       "0                              0                             0   \n",
       "1                              0                             0   \n",
       "\n",
       "   has_secondary_use_use_police  has_secondary_use_other  damage_grade  \n",
       "0                             0                        0             3  \n",
       "1                             0                        0             2  \n",
       "\n",
       "[2 rows x 40 columns]"
      ]
     },
     "execution_count": 72,
     "metadata": {},
     "output_type": "execute_result"
    }
   ],
   "source": [
    "total_df.head(2)"
   ]
  },
  {
   "cell_type": "code",
   "execution_count": 73,
   "id": "3fd23475",
   "metadata": {},
   "outputs": [],
   "source": [
    "test = Prediction()"
   ]
  },
  {
   "cell_type": "code",
   "execution_count": 74,
   "id": "a1a184eb",
   "metadata": {},
   "outputs": [],
   "source": [
    "X= total_df.drop(['building_id', 'damage_grade'], axis=1)\n",
    "y= total_df['damage_grade']\n",
    "submission_df = test_df['building_id']"
   ]
  },
  {
   "cell_type": "code",
   "execution_count": 75,
   "id": "ff224b53",
   "metadata": {},
   "outputs": [
    {
     "name": "stdout",
     "output_type": "stream",
     "text": [
      "hi\n",
      "LogisticRegression\n",
      "LogisticRegression done\n",
      "GaussianNB\n",
      "GaussianNB done\n",
      "{'LogisticRegression': {'test_model_f1_score': 0.6001586063109963, 'best_params': {'C': 10, 'multi_class': 'ovr', 'penalty': 'l2'}}, 'GaussianNB': {'test_model_f1_score': 0.39100292910042084, 'best_params': {}}}\n"
     ]
    }
   ],
   "source": [
    "test.best_model_creating_fn(X,  y)"
   ]
  },
  {
   "cell_type": "code",
   "execution_count": 76,
   "id": "9e396c8c",
   "metadata": {},
   "outputs": [
    {
     "name": "stdout",
     "output_type": "stream",
     "text": [
      "LogisticRegression(C=10, multi_class='ovr')\n"
     ]
    }
   ],
   "source": [
    "print(test.best_trained_model)\n"
   ]
  },
  {
   "cell_type": "code",
   "execution_count": 77,
   "id": "617ad31c",
   "metadata": {},
   "outputs": [
    {
     "name": "stdout",
     "output_type": "stream",
     "text": [
      "hi\n"
     ]
    }
   ],
   "source": [
    "prediction = test.prediction_fn(test_df.drop(['building_id'], axis=1), submission_df)"
   ]
  },
  {
   "cell_type": "code",
   "execution_count": 78,
   "id": "88f0a64e",
   "metadata": {},
   "outputs": [
    {
     "name": "stdout",
     "output_type": "stream",
     "text": [
      "[3 2 2 ... 2 2 2]\n"
     ]
    }
   ],
   "source": [
    "print(prediction)"
   ]
  },
  {
   "cell_type": "code",
   "execution_count": null,
   "id": "00f61d17",
   "metadata": {},
   "outputs": [],
   "source": []
  }
 ],
 "metadata": {
  "kernelspec": {
   "display_name": "Python 3 (ipykernel)",
   "language": "python",
   "name": "python3"
  },
  "language_info": {
   "codemirror_mode": {
    "name": "ipython",
    "version": 3
   },
   "file_extension": ".py",
   "mimetype": "text/x-python",
   "name": "python",
   "nbconvert_exporter": "python",
   "pygments_lexer": "ipython3",
   "version": "3.9.7"
  }
 },
 "nbformat": 4,
 "nbformat_minor": 5
}
